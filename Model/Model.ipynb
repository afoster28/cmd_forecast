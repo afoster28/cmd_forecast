{
 "cells": [
  {
   "cell_type": "code",
   "execution_count": 2,
   "id": "5a661565",
   "metadata": {},
   "outputs": [],
   "source": [
    "import pandas as pd\n",
    "import fredapi as fa\n",
    "from local_settings import fred as settings\n",
    "fred = fa.Fred(settings['api_key'])"
   ]
  },
  {
   "cell_type": "code",
   "execution_count": 3,
   "id": "3cbd1e7d",
   "metadata": {},
   "outputs": [
    {
     "data": {
      "text/plain": [
       "2023-09-26    91.43\n",
       "2023-09-27    93.67\n",
       "2023-09-28    91.65\n",
       "2023-09-29    90.77\n",
       "2023-10-02    88.81\n",
       "dtype: float64"
      ]
     },
     "execution_count": 3,
     "metadata": {},
     "output_type": "execute_result"
    }
   ],
   "source": [
    "wti = fred.get_series('DCOILWTICO')\n",
    "wti.tail()"
   ]
  }
 ],
 "metadata": {
  "kernelspec": {
   "display_name": "Python 3 (ipykernel)",
   "language": "python",
   "name": "python3"
  },
  "language_info": {
   "codemirror_mode": {
    "name": "ipython",
    "version": 3
   },
   "file_extension": ".py",
   "mimetype": "text/x-python",
   "name": "python",
   "nbconvert_exporter": "python",
   "pygments_lexer": "ipython3",
   "version": "3.11.4"
  }
 },
 "nbformat": 4,
 "nbformat_minor": 5
}
